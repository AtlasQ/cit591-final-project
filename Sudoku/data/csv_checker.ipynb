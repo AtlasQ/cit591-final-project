{
 "cells": [
  {
   "cell_type": "code",
   "execution_count": 1,
   "metadata": {},
   "outputs": [],
   "source": [
    "import pandas as pd\n",
    "import numpy as np"
   ]
  },
  {
   "cell_type": "code",
   "execution_count": 2,
   "metadata": {},
   "outputs": [],
   "source": [
    "sudoku = pd.read_csv('sudoku.csv')"
   ]
  },
  {
   "cell_type": "code",
   "execution_count": 3,
   "metadata": {},
   "outputs": [
    {
     "data": {
      "text/html": [
       "<div>\n",
       "<style scoped>\n",
       "    .dataframe tbody tr th:only-of-type {\n",
       "        vertical-align: middle;\n",
       "    }\n",
       "\n",
       "    .dataframe tbody tr th {\n",
       "        vertical-align: top;\n",
       "    }\n",
       "\n",
       "    .dataframe thead th {\n",
       "        text-align: right;\n",
       "    }\n",
       "</style>\n",
       "<table border=\"1\" class=\"dataframe\">\n",
       "  <thead>\n",
       "    <tr style=\"text-align: right;\">\n",
       "      <th></th>\n",
       "      <th>puzzle</th>\n",
       "      <th>solution</th>\n",
       "    </tr>\n",
       "  </thead>\n",
       "  <tbody>\n",
       "    <tr>\n",
       "      <th>0</th>\n",
       "      <td>0700000430400096108006349000940520003584600200...</td>\n",
       "      <td>6795182435437296188216349577943521863584617292...</td>\n",
       "    </tr>\n",
       "    <tr>\n",
       "      <th>1</th>\n",
       "      <td>3010865040465210705000000014008000020803479000...</td>\n",
       "      <td>3719865248465213795924738614638197522853479167...</td>\n",
       "    </tr>\n",
       "    <tr>\n",
       "      <th>2</th>\n",
       "      <td>0483015603600080909106700030200009355090102006...</td>\n",
       "      <td>7483915623652487919126754834217869355894132766...</td>\n",
       "    </tr>\n",
       "    <tr>\n",
       "      <th>3</th>\n",
       "      <td>0083170000042051090000400703271609049014500000...</td>\n",
       "      <td>2983176457642851391539462783271689549814537266...</td>\n",
       "    </tr>\n",
       "    <tr>\n",
       "      <th>4</th>\n",
       "      <td>0408906300001368208007405190004670524500207002...</td>\n",
       "      <td>1428956379751368248367425193984671524513287962...</td>\n",
       "    </tr>\n",
       "  </tbody>\n",
       "</table>\n",
       "</div>"
      ],
      "text/plain": [
       "                                              puzzle  \\\n",
       "0  0700000430400096108006349000940520003584600200...   \n",
       "1  3010865040465210705000000014008000020803479000...   \n",
       "2  0483015603600080909106700030200009355090102006...   \n",
       "3  0083170000042051090000400703271609049014500000...   \n",
       "4  0408906300001368208007405190004670524500207002...   \n",
       "\n",
       "                                            solution  \n",
       "0  6795182435437296188216349577943521863584617292...  \n",
       "1  3719865248465213795924738614638197522853479167...  \n",
       "2  7483915623652487919126754834217869355894132766...  \n",
       "3  2983176457642851391539462783271689549814537266...  \n",
       "4  1428956379751368248367425193984671524513287962...  "
      ]
     },
     "execution_count": 3,
     "metadata": {},
     "output_type": "execute_result"
    }
   ],
   "source": [
    "sudoku.head()"
   ]
  },
  {
   "cell_type": "code",
   "execution_count": 4,
   "metadata": {},
   "outputs": [],
   "source": [
    "def countZero(string):\n",
    "    counter = 0\n",
    "    for s in string:\n",
    "        if s == '0':\n",
    "            counter += 1\n",
    "    return counter"
   ]
  },
  {
   "cell_type": "code",
   "execution_count": 5,
   "metadata": {},
   "outputs": [],
   "source": [
    "def difficulty(numOfZeros):\n",
    "    if numOfZeros > 55:\n",
    "        return 'hard'\n",
    "    elif numOfZeros> 45 and numOfZeros<55:\n",
    "        return 'intermediate'\n",
    "    elif numOfZeros>30 and numOfZeros< 40:\n",
    "        return 'easy'\n",
    "    return "
   ]
  },
  {
   "cell_type": "code",
   "execution_count": 6,
   "metadata": {},
   "outputs": [],
   "source": [
    "sudoku['numOfZeros'] = sudoku['puzzle'].apply(countZero)\n",
    "sudoku['difficulty'] = sudoku['numOfZeros'].apply(difficulty)"
   ]
  },
  {
   "cell_type": "code",
   "execution_count": 10,
   "metadata": {},
   "outputs": [],
   "source": [
    "hard = sudoku[sudoku['difficulty'] == 'hard'].copy()"
   ]
  },
  {
   "cell_type": "code",
   "execution_count": 11,
   "metadata": {},
   "outputs": [],
   "source": [
    "intermediate = sudoku[sudoku['difficulty'] == 'intermediate'].sample(10000).copy()"
   ]
  },
  {
   "cell_type": "code",
   "execution_count": 12,
   "metadata": {},
   "outputs": [],
   "source": [
    "easy = sudoku[sudoku['difficulty'] == 'easy'].sample(10000).copy()"
   ]
  },
  {
   "cell_type": "code",
   "execution_count": 15,
   "metadata": {},
   "outputs": [
    {
     "data": {
      "text/html": [
       "<div>\n",
       "<style scoped>\n",
       "    .dataframe tbody tr th:only-of-type {\n",
       "        vertical-align: middle;\n",
       "    }\n",
       "\n",
       "    .dataframe tbody tr th {\n",
       "        vertical-align: top;\n",
       "    }\n",
       "\n",
       "    .dataframe thead th {\n",
       "        text-align: right;\n",
       "    }\n",
       "</style>\n",
       "<table border=\"1\" class=\"dataframe\">\n",
       "  <thead>\n",
       "    <tr style=\"text-align: right;\">\n",
       "      <th></th>\n",
       "      <th>puzzle</th>\n",
       "      <th>solution</th>\n",
       "      <th>numOfZeros</th>\n",
       "      <th>difficulty</th>\n",
       "    </tr>\n",
       "  </thead>\n",
       "  <tbody>\n",
       "    <tr>\n",
       "      <th>4145433</th>\n",
       "      <td>0240751007902308463186090208000003000321876045...</td>\n",
       "      <td>6248751937952318463186497258415963729321876545...</td>\n",
       "      <td>32</td>\n",
       "      <td>easy</td>\n",
       "    </tr>\n",
       "    <tr>\n",
       "      <th>4516933</th>\n",
       "      <td>0002000101250900700087012305009120470005368919...</td>\n",
       "      <td>3672854191254936784987612355869123477425368919...</td>\n",
       "      <td>34</td>\n",
       "      <td>easy</td>\n",
       "    </tr>\n",
       "    <tr>\n",
       "      <th>4763217</th>\n",
       "      <td>0069007508002631041940700300100320075034072107...</td>\n",
       "      <td>2369147588572631941948756324196325875834972167...</td>\n",
       "      <td>34</td>\n",
       "      <td>easy</td>\n",
       "    </tr>\n",
       "    <tr>\n",
       "      <th>2673759</th>\n",
       "      <td>0210060578079000016350108000890030000005010000...</td>\n",
       "      <td>9218364578479253616357148295896731424725819363...</td>\n",
       "      <td>39</td>\n",
       "      <td>easy</td>\n",
       "    </tr>\n",
       "    <tr>\n",
       "      <th>6503162</th>\n",
       "      <td>8000007093059014064906851025002680976090070450...</td>\n",
       "      <td>8164237593259714864976851325412683976891372452...</td>\n",
       "      <td>39</td>\n",
       "      <td>easy</td>\n",
       "    </tr>\n",
       "    <tr>\n",
       "      <th>...</th>\n",
       "      <td>...</td>\n",
       "      <td>...</td>\n",
       "      <td>...</td>\n",
       "      <td>...</td>\n",
       "    </tr>\n",
       "    <tr>\n",
       "      <th>4055038</th>\n",
       "      <td>3057041926201507801402003050089704260000000370...</td>\n",
       "      <td>3857641926291537841472983655389714269168425372...</td>\n",
       "      <td>37</td>\n",
       "      <td>easy</td>\n",
       "    </tr>\n",
       "    <tr>\n",
       "      <th>5769618</th>\n",
       "      <td>0040007008250076000002800307495000000317009605...</td>\n",
       "      <td>3149567828253176949762845317495632182317489655...</td>\n",
       "      <td>38</td>\n",
       "      <td>easy</td>\n",
       "    </tr>\n",
       "    <tr>\n",
       "      <th>4153591</th>\n",
       "      <td>2534000900093100008412950070309008505006049030...</td>\n",
       "      <td>2534671987693182458412953676379218545286749139...</td>\n",
       "      <td>38</td>\n",
       "      <td>easy</td>\n",
       "    </tr>\n",
       "    <tr>\n",
       "      <th>8712504</th>\n",
       "      <td>8070206090001600076050780132708945014507160001...</td>\n",
       "      <td>8174236599341658276259784132738945614597163821...</td>\n",
       "      <td>35</td>\n",
       "      <td>easy</td>\n",
       "    </tr>\n",
       "    <tr>\n",
       "      <th>833558</th>\n",
       "      <td>6400070302500080009013062080856349214090000531...</td>\n",
       "      <td>6489271352531487699713562487856349214297816531...</td>\n",
       "      <td>38</td>\n",
       "      <td>easy</td>\n",
       "    </tr>\n",
       "  </tbody>\n",
       "</table>\n",
       "<p>10000 rows × 4 columns</p>\n",
       "</div>"
      ],
      "text/plain": [
       "                                                    puzzle  \\\n",
       "4145433  0240751007902308463186090208000003000321876045...   \n",
       "4516933  0002000101250900700087012305009120470005368919...   \n",
       "4763217  0069007508002631041940700300100320075034072107...   \n",
       "2673759  0210060578079000016350108000890030000005010000...   \n",
       "6503162  8000007093059014064906851025002680976090070450...   \n",
       "...                                                    ...   \n",
       "4055038  3057041926201507801402003050089704260000000370...   \n",
       "5769618  0040007008250076000002800307495000000317009605...   \n",
       "4153591  2534000900093100008412950070309008505006049030...   \n",
       "8712504  8070206090001600076050780132708945014507160001...   \n",
       "833558   6400070302500080009013062080856349214090000531...   \n",
       "\n",
       "                                                  solution  numOfZeros  \\\n",
       "4145433  6248751937952318463186497258415963729321876545...          32   \n",
       "4516933  3672854191254936784987612355869123477425368919...          34   \n",
       "4763217  2369147588572631941948756324196325875834972167...          34   \n",
       "2673759  9218364578479253616357148295896731424725819363...          39   \n",
       "6503162  8164237593259714864976851325412683976891372452...          39   \n",
       "...                                                    ...         ...   \n",
       "4055038  3857641926291537841472983655389714269168425372...          37   \n",
       "5769618  3149567828253176949762845317495632182317489655...          38   \n",
       "4153591  2534671987693182458412953676379218545286749139...          38   \n",
       "8712504  8174236599341658276259784132738945614597163821...          35   \n",
       "833558   6489271352531487699713562487856349214297816531...          38   \n",
       "\n",
       "        difficulty  \n",
       "4145433       easy  \n",
       "4516933       easy  \n",
       "4763217       easy  \n",
       "2673759       easy  \n",
       "6503162       easy  \n",
       "...            ...  \n",
       "4055038       easy  \n",
       "5769618       easy  \n",
       "4153591       easy  \n",
       "8712504       easy  \n",
       "833558        easy  \n",
       "\n",
       "[10000 rows x 4 columns]"
      ]
     },
     "execution_count": 15,
     "metadata": {},
     "output_type": "execute_result"
    }
   ],
   "source": [
    "def to_csv(df, name):\n",
    "    df['puzzle'].to_csv(name + '.csv', header=False, index=False)\n",
    "    df['solution'].to_csv(name + '.csv', header=False, index=False)"
   ]
  },
  {
   "cell_type": "code",
   "execution_count": null,
   "metadata": {},
   "outputs": [],
   "source": []
  }
 ],
 "metadata": {
  "kernelspec": {
   "display_name": "Python 3",
   "language": "python",
   "name": "python3"
  },
  "language_info": {
   "codemirror_mode": {
    "name": "ipython",
    "version": 3
   },
   "file_extension": ".py",
   "mimetype": "text/x-python",
   "name": "python",
   "nbconvert_exporter": "python",
   "pygments_lexer": "ipython3",
   "version": "3.7.4"
  }
 },
 "nbformat": 4,
 "nbformat_minor": 2
}
